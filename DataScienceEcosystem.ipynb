{
 "cells": [
  {
   "cell_type": "markdown",
   "id": "ac316195",
   "metadata": {},
   "source": [
    "# Data Science Tools and Ecosystem"
   ]
  },
  {
   "cell_type": "markdown",
   "id": "dee287d4",
   "metadata": {},
   "source": [
    "In this notebook, Data Science Tools and Ecosystem are summarized."
   ]
  },
  {
   "cell_type": "markdown",
   "id": "b484c47c",
   "metadata": {},
   "source": [
    "Objectives:"
   ]
  },
  {
   "cell_type": "markdown",
   "id": "fecedb09",
   "metadata": {},
   "source": [
    "* Categories of Data Science Tools\n",
    "* Languages of Data Science \n",
    "* Libraries for Data Science\n",
    "* Introduction to Jupyter Notebooks\n",
    "* Introduction to GitHub"
   ]
  },
  {
   "cell_type": "markdown",
   "id": "c20f3a08",
   "metadata": {},
   "source": [
    "<p>Some of the popular languages that Data Scientists use are:</p>\n",
    "<p>&nbsp; &nbsp; 1. Python</p>\n",
    "<p>&nbsp; &nbsp; 2. R</p>\n",
    "<p>&nbsp; &nbsp; 3. Julia</p>"
   ]
  },
  {
   "cell_type": "markdown",
   "id": "758ad6c7",
   "metadata": {},
   "source": [
    "<p>Some of the commonly used libraries used by Data Scientists include:</p>\n",
    "<p>&nbsp; &nbsp; 1. Pandas</p>\n",
    "<p>&nbsp; &nbsp; 2. Tensorflow</p>\n",
    "<p>&nbsp; &nbsp; 3. Matplotlib</p>"
   ]
  },
  {
   "cell_type": "markdown",
   "id": "8c9b3bc1",
   "metadata": {},
   "source": [
    "<p>Data Science Tools</p>\n",
    "<p>&nbsp; &nbsp; 1. RStudio</p>\n",
    "<p>&nbsp; &nbsp; 2. Tensorflow</p>\n",
    "<p>&nbsp; &nbsp; 3. Apache Spark</p>"
   ]
  },
  {
   "cell_type": "markdown",
   "id": "f3dbb514",
   "metadata": {},
   "source": [
    "### Below are a few examples of evaluating arithmetic expressions in Python"
   ]
  },
  {
   "cell_type": "markdown",
   "id": "9da7f44e",
   "metadata": {},
   "source": [
    "This a simple arithmetic expression to mutiply then add integers"
   ]
  },
  {
   "cell_type": "code",
   "execution_count": 4,
   "id": "7c737e93",
   "metadata": {},
   "outputs": [
    {
     "name": "stdout",
     "output_type": "stream",
     "text": [
      "17\n"
     ]
    }
   ],
   "source": [
    "a=(3*4)+5\n",
    "print(a)"
   ]
  },
  {
   "cell_type": "markdown",
   "id": "cb86c5f7",
   "metadata": {},
   "source": [
    "This will convert 200 minutes to hours by diving by 60"
   ]
  },
  {
   "cell_type": "code",
   "execution_count": 14,
   "id": "7f17dc69",
   "metadata": {},
   "outputs": [
    {
     "name": "stdout",
     "output_type": "stream",
     "text": [
      "3.3333333333333335 hours\n"
     ]
    }
   ],
   "source": [
    "a=200/60\n",
    "print(a,'hours')"
   ]
  },
  {
   "cell_type": "markdown",
   "id": "1f8e1be2",
   "metadata": {},
   "source": [
    "## Author\n",
    "Chandra Hidayatul Akbar"
   ]
  }
 ],
 "metadata": {
  "kernelspec": {
   "display_name": "Python 3 (ipykernel)",
   "language": "python",
   "name": "python3"
  },
  "language_info": {
   "codemirror_mode": {
    "name": "ipython",
    "version": 3
   },
   "file_extension": ".py",
   "mimetype": "text/x-python",
   "name": "python",
   "nbconvert_exporter": "python",
   "pygments_lexer": "ipython3",
   "version": "3.9.16"
  }
 },
 "nbformat": 4,
 "nbformat_minor": 5
}
